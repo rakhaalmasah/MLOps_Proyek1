{
  "nbformat": 4,
  "nbformat_minor": 0,
  "metadata": {
    "colab": {
      "provenance": []
    },
    "kernelspec": {
      "name": "python3",
      "display_name": "Python 3"
    },
    "language_info": {
      "name": "python"
    }
  },
  "cells": [
    {
      "cell_type": "markdown",
      "source": [
        "# **Proyek Pengembangan Machine Learning Pipeline :**\n",
        "- **Nama:** Muhammad Rakha Almasah\n",
        "- **Email:** muh.rakha.al@gmail.com\n",
        "- **ID Dicoding:** muhrakhaal"
      ],
      "metadata": {
        "id": "Au0u_FzI6PaA"
      }
    },
    {
      "cell_type": "markdown",
      "source": [
        "# **Tahap 4 : Tes Server**"
      ],
      "metadata": {
        "id": "ajkXl0YD6QLf"
      }
    },
    {
      "cell_type": "code",
      "source": [
        "import requests\n",
        "FLASK_SERVER_URL = \"https://a227-34-172-17-139.ngrok-free.app/predict\"\n",
        "data = {\n",
        "    \"features\": {\n",
        "        \"AAPL\": [111.28],\n",
        "        \"MSFT\": [336.32],\n",
        "        \"AMZN\": [138.12],\n",
        "        \"BRK_B\": [553.50],\n",
        "        \"IXIC\": [0.0]\n",
        "    }\n",
        "}\n",
        "\n",
        "response = requests.post(FLASK_SERVER_URL, json=data)\n",
        "\n",
        "if response.status_code == 200:\n",
        "    print(\"Hasil Prediksi:\", response.json()[\"predictions\"])\n",
        "else:\n",
        "    print(\"Error:\", response.text)\n"
      ],
      "metadata": {
        "colab": {
          "base_uri": "https://localhost:8080/"
        },
        "id": "2gHbjyev3Rde",
        "outputId": "e9bc2875-9f03-4f5b-e341-e31f8ee02d61"
      },
      "execution_count": 5,
      "outputs": [
        {
          "output_type": "stream",
          "name": "stdout",
          "text": [
            "Hasil Prediksi: [[1210132.75]]\n"
          ]
        }
      ]
    }
  ]
}